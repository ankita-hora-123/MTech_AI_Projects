{
 "cells": [
  {
   "cell_type": "code",
   "execution_count": 1,
   "id": "0be188c2",
   "metadata": {},
   "outputs": [],
   "source": [
    "import face_recognition\n",
    "import cv2\n",
    "import numpy as np\n",
    "import csv\n",
    "import os\n",
    "from datetime import datetime\n",
    "from pymongo import MongoClient\n",
    "from gridfs import GridFS\n",
    "from PIL import Image\n",
    "import pandas as pd"
   ]
  },
  {
   "cell_type": "code",
   "execution_count": 2,
   "id": "4f1dcae3",
   "metadata": {},
   "outputs": [],
   "source": [
    "Connection_string=\"mongodb://localhost:27017\"\n",
    "client=MongoClient(Connection_string)\n",
    "client.drop_database('online_attendance')"
   ]
  },
  {
   "cell_type": "code",
   "execution_count": 3,
   "id": "5a1f08ac",
   "metadata": {},
   "outputs": [],
   "source": [
    "dbname=client['online_attendance']\n",
    "fs = GridFS(dbname,collection='students_pics')"
   ]
  },
  {
   "cell_type": "code",
   "execution_count": 4,
   "id": "eca1d053",
   "metadata": {},
   "outputs": [
    {
     "name": "stdout",
     "output_type": "stream",
     "text": [
      "ankita.jpg inserted successfully.\n",
      "bill1.jpg inserted successfully.\n",
      "bill2.jpg inserted successfully.\n",
      "elon1.jpg inserted successfully.\n",
      "elon2.jpg inserted successfully.\n",
      "mona_lisa1.jpg inserted successfully.\n",
      "mona_lisa2.jpg inserted successfully.\n",
      "tata1.jpg inserted successfully.\n",
      "tata2.jpg inserted successfully.\n",
      "['ANKITA', 'BILL1', 'BILL2', 'ELON1', 'ELON2', 'MONA_LISA1', 'MONA_LISA2', 'TATA1', 'TATA2']\n",
      "Upload Completed\n"
     ]
    }
   ],
   "source": [
    "folder_path = 'C:/Users/hp/Pictures/AI_Project' \n",
    "class_names=[]\n",
    "for filename in os.listdir(folder_path):\n",
    "    if filename.endswith('.jpg') or filename.endswith('.png'):\n",
    "        with open(os.path.join(folder_path, filename), 'rb') as f:\n",
    "            data = f.read()            \n",
    "            existing_file = fs.find_one({'filename': filename})\n",
    "            if existing_file is not None:\n",
    "                print(f'File {filename} exists in the GridFS collection.')\n",
    "            else:\n",
    "                class_names.append(os.path.splitext(filename)[0].upper())\n",
    "                fs.put(data, filename=filename)\n",
    "                print(f'{filename} inserted successfully.')\n",
    "                        \n",
    "print(class_names)            \n",
    "print(\"Upload Completed\")"
   ]
  },
  {
   "cell_type": "code",
   "execution_count": 5,
   "id": "32ab2d9e",
   "metadata": {},
   "outputs": [],
   "source": [
    "students = class_names.copy()\n",
    "images=[]\n",
    "for file in fs.find():\n",
    "    file_data = file.read()\n",
    "    np_data = np.frombuffer(file_data, np.uint8)\n",
    "    cur_image = cv2.imdecode(np_data, cv2.IMREAD_COLOR)\n",
    "    images.append(cur_image)    "
   ]
  },
  {
   "cell_type": "code",
   "execution_count": 6,
   "id": "5eae77bf",
   "metadata": {},
   "outputs": [
    {
     "name": "stdout",
     "output_type": "stream",
     "text": [
      "9\n"
     ]
    }
   ],
   "source": [
    "print(len(images))"
   ]
  },
  {
   "cell_type": "code",
   "execution_count": 7,
   "id": "52b8e052",
   "metadata": {},
   "outputs": [],
   "source": [
    "def findEncodings(images):\n",
    "    encodeList=[]\n",
    "    for img in images:\n",
    "        img=cv2.cvtColor(img, cv2.COLOR_BGR2RGB)\n",
    "        encode=face_recognition.face_encodings(img)[0]\n",
    "        encodeList.append(encode)\n",
    "    return encodeList"
   ]
  },
  {
   "cell_type": "code",
   "execution_count": 8,
   "id": "0948b1a1",
   "metadata": {},
   "outputs": [
    {
     "name": "stdout",
     "output_type": "stream",
     "text": [
      "9\n"
     ]
    }
   ],
   "source": [
    "encodeListKnown=findEncodings(images)\n",
    "print(len(encodeListKnown))"
   ]
  },
  {
   "cell_type": "code",
   "execution_count": 9,
   "id": "af079616",
   "metadata": {},
   "outputs": [
    {
     "data": {
      "text/plain": [
       "30"
      ]
     },
     "execution_count": 9,
     "metadata": {},
     "output_type": "execute_result"
    }
   ],
   "source": [
    "from datetime import datetime\n",
    "now = datetime.now()\n",
    "current_date = now.strftime(\"%Y-%m-%d\")\n",
    "f = open(current_date+'.csv','w+',newline = '')\n",
    "header = ['Name_ofStudent','Time_of_entry']\n",
    "lnwriter = csv.writer(f)\n",
    "lnwriter.writerow(header)"
   ]
  },
  {
   "cell_type": "code",
   "execution_count": 10,
   "id": "309d0d08",
   "metadata": {},
   "outputs": [
    {
     "name": "stdout",
     "output_type": "stream",
     "text": [
      "[True, False, False, False, False, False, False, False, False]\n",
      "ANKITA\n",
      "[True, False, False, False, False, False, False, False, False]\n",
      "ANKITA\n",
      "[True, False, False, False, False, False, False, False, False]\n",
      "ANKITA\n",
      "[True, False, False, False, False, False, False, False, False]\n",
      "ANKITA\n",
      "[True, False, False, False, False, False, False, False, False]\n",
      "ANKITA\n",
      "[True, False, False, False, False, False, False, False, False]\n",
      "ANKITA\n",
      "[True, False, False, False, False, False, False, False, False]\n",
      "ANKITA\n",
      "[True, False, False, False, False, False, False, False, False]\n",
      "ANKITA\n",
      "[True, False, False, False, False, False, False, False, False]\n",
      "ANKITA\n",
      "[True, False, False, False, False, False, False, False, False]\n",
      "ANKITA\n",
      "[True, False, False, False, False, False, False, False, False]\n",
      "ANKITA\n",
      "[True, False, False, False, False, False, False, False, False]\n",
      "ANKITA\n",
      "[True, False, False, False, False, False, False, False, False]\n",
      "ANKITA\n",
      "[True, False, False, False, False, False, False, False, False]\n",
      "ANKITA\n",
      "[True, False, False, False, False, False, False, False, False]\n",
      "ANKITA\n",
      "[True, False, False, False, False, False, False, False, False]\n",
      "ANKITA\n",
      "[True, False, False, False, False, False, False, False, False]\n",
      "ANKITA\n",
      "[True, False, False, False, False, False, False, False, False]\n",
      "ANKITA\n",
      "[True, False, False, False, False, False, False, False, False]\n",
      "ANKITA\n",
      "[True, False, False, False, False, False, False, False, False]\n",
      "ANKITA\n",
      "[True, False, False, False, False, False, False, False, False]\n",
      "ANKITA\n",
      "[True, False, False, False, False, False, False, False, False]\n",
      "ANKITA\n",
      "[True, False, False, False, False, False, False, False, False]\n",
      "ANKITA\n",
      "[True, False, False, False, False, False, False, False, False]\n",
      "ANKITA\n",
      "[True, False, False, False, False, False, False, False, False]\n",
      "ANKITA\n",
      "[True, False, False, False, False, False, False, False, False]\n",
      "ANKITA\n",
      "[True, False, False, False, False, False, False, False, False]\n",
      "ANKITA\n",
      "[True, False, False, False, False, False, False, False, False]\n",
      "ANKITA\n",
      "[True, False, False, False, False, False, False, False, False]\n",
      "ANKITA\n",
      "[True, False, False, False, False, False, False, False, False]\n",
      "ANKITA\n",
      "[True, False, False, False, False, False, False, False, False]\n",
      "ANKITA\n",
      "[True, False, False, False, False, False, False, False, False]\n",
      "ANKITA\n",
      "[True, False, False, False, False, False, False, False, False]\n",
      "ANKITA\n",
      "[True, False, False, False, False, False, False, False, False]\n",
      "ANKITA\n",
      "[True, False, False, False, False, False, False, False, False]\n",
      "ANKITA\n",
      "[True, False, False, False, False, False, False, False, False]\n",
      "ANKITA\n",
      "[True, False, False, False, False, False, False, False, False]\n",
      "ANKITA\n",
      "[True, False, False, False, False, False, False, False, False]\n",
      "ANKITA\n",
      "[True, False, False, False, False, False, False, False, False]\n",
      "ANKITA\n",
      "[True, False, False, False, False, False, False, False, False]\n",
      "ANKITA\n",
      "[True, False, False, False, False, False, False, False, False]\n",
      "ANKITA\n",
      "[True, False, False, False, False, False, False, False, False]\n",
      "ANKITA\n",
      "[True, False, False, False, False, False, False, False, False]\n",
      "ANKITA\n",
      "[False, True, True, False, False, False, False, False, False]\n",
      "BILL1\n",
      "[True, False, False, False, False, False, False, False, False]\n",
      "ANKITA\n",
      "[False, True, True, False, False, False, False, False, False]\n",
      "BILL1\n",
      "[True, False, False, False, False, False, False, False, False]\n",
      "ANKITA\n",
      "[True, False, False, False, False, False, False, False, False]\n",
      "ANKITA\n",
      "[True, False, False, False, False, False, False, False, False]\n",
      "ANKITA\n",
      "[True, False, False, False, False, False, False, False, False]\n",
      "ANKITA\n",
      "[True, False, False, False, False, False, False, False, False]\n",
      "ANKITA\n",
      "[True, False, False, False, False, False, False, False, False]\n",
      "ANKITA\n",
      "[True, False, False, False, False, False, False, False, False]\n",
      "ANKITA\n",
      "[True, False, False, False, False, False, False, False, False]\n",
      "ANKITA\n",
      "[True, False, False, False, False, False, False, False, False]\n",
      "ANKITA\n",
      "[True, False, False, False, False, False, False, False, False]\n",
      "ANKITA\n",
      "[True, False, False, False, False, False, False, False, False]\n",
      "ANKITA\n",
      "[True, False, False, False, False, False, False, False, False]\n",
      "ANKITA\n",
      "[True, False, False, False, False, False, False, False, False]\n",
      "ANKITA\n",
      "[True, False, False, False, False, False, False, False, False]\n",
      "ANKITA\n",
      "[True, False, False, False, False, False, False, False, False]\n",
      "ANKITA\n",
      "[True, False, False, False, False, False, False, False, False]\n",
      "ANKITA\n",
      "[False, False, False, False, False, False, False, True, True]\n",
      "TATA1\n",
      "[True, False, False, False, False, False, False, False, False]\n",
      "ANKITA\n",
      "[False, False, False, False, False, False, False, True, True]\n",
      "TATA1\n",
      "[True, False, False, False, False, False, False, False, False]\n",
      "ANKITA\n",
      "[True, False, False, False, False, False, False, False, False]\n",
      "ANKITA\n",
      "[True, False, False, False, False, False, False, False, False]\n",
      "ANKITA\n",
      "[True, False, False, False, False, False, False, False, False]\n",
      "ANKITA\n",
      "[True, False, False, False, False, False, False, False, False]\n",
      "ANKITA\n"
     ]
    }
   ],
   "source": [
    "cap=cv2.VideoCapture(0)\n",
    "while True:\n",
    "    success,img = cap.read()\n",
    "    frame = cv2.resize(img,(0,0),None,fx=0.25,fy=0.25)\n",
    "    frame=cv2.cvtColor(frame, cv2.COLOR_BGR2RGB)\n",
    "    face_locations = face_recognition.face_locations(frame)\n",
    "    face_encodings = face_recognition.face_encodings(frame,face_locations)\n",
    "    \n",
    "    for encodeFace,LocationFace in zip(face_encodings,face_locations):\n",
    "        matches = face_recognition.compare_faces(encodeListKnown,encodeFace)\n",
    "        print(matches)\n",
    "        face_distance = face_recognition.face_distance(encodeListKnown,encodeFace)\n",
    "        #print(face_distance)\n",
    "        best_match_index = np.argmin(face_distance)\n",
    "        if matches[best_match_index]:\n",
    "            name = class_names[best_match_index].upper()\n",
    "            print(name)\n",
    "            y1,x2,y2,x1=LocationFace\n",
    "            y1,x2,y2,x1=y1*4,x2*4,y2*4,x1*4\n",
    "            cv2.rectangle(img,(x1,y1),(x2,y2),(0,255,0),2)\n",
    "            cv2.rectangle(img,(x1,y2-35),(x2,y2),(0,255,0),cv2.FILLED)\n",
    "            cv2.putText(img,name,(x1+6,y2-6),cv2.FONT_HERSHEY_SIMPLEX,1,(255,255,255),2)\n",
    "            if name in students:\n",
    "                students.remove(name)\n",
    "                current_time = now.strftime(\"%H-%M-%S\")\n",
    "                lnwriter.writerow([name,current_time])\n",
    "            \n",
    "        \n",
    "    cv2.imshow(\"attendence system\",img)\n",
    "    if cv2.waitKey(1) & 0xFF == ord('q'):\n",
    "        break\n",
    "        \n",
    "\n",
    "cap.release()\n",
    "cv2.destroyAllWindows()\n",
    "f.close()"
   ]
  },
  {
   "cell_type": "code",
   "execution_count": 11,
   "id": "4d9438dc",
   "metadata": {},
   "outputs": [
    {
     "name": "stdout",
     "output_type": "stream",
     "text": [
      "insert completed\n",
      "insert completed\n",
      "insert completed\n"
     ]
    }
   ],
   "source": [
    "today = now.strftime(\"%Y-%m-%d\")\n",
    "collection_name = 'Students-present-on-' + today\n",
    "collection = dbname[collection_name]\n",
    "with open(current_date+'.csv', 'r') as csvfile:\n",
    "    reader = csv.DictReader(csvfile)\n",
    "    for row in reader:\n",
    "        collection.insert_one(row)\n",
    "        print(\"insert completed\")"
   ]
  },
  {
   "cell_type": "code",
   "execution_count": null,
   "id": "7d6c8eb4",
   "metadata": {},
   "outputs": [],
   "source": []
  }
 ],
 "metadata": {
  "kernelspec": {
   "display_name": "Python 3 (ipykernel)",
   "language": "python",
   "name": "python3"
  },
  "language_info": {
   "codemirror_mode": {
    "name": "ipython",
    "version": 3
   },
   "file_extension": ".py",
   "mimetype": "text/x-python",
   "name": "python",
   "nbconvert_exporter": "python",
   "pygments_lexer": "ipython3",
   "version": "3.11.5"
  }
 },
 "nbformat": 4,
 "nbformat_minor": 5
}
