{
 "cells": [
  {
   "cell_type": "markdown",
   "metadata": {
    "id": "e4N1qkHkfJ6-"
   },
   "source": [
    "# Advance Artificial Intelligence "
   ]
  },
  {
   "cell_type": "code",
   "execution_count": 3,
   "metadata": {
    "id": "k9Twz7S5oyh6"
   },
   "outputs": [
    {
     "name": "stdout",
     "output_type": "stream",
     "text": [
      "Enter your nameAnkita Hora\n",
      "My name is :  Ankita Hora\n",
      "Current Date and time is :  20/01/2023 12:48:14\n"
     ]
    }
   ],
   "source": [
    "# Print your name and Roll No. \n",
    "name=input(\"Enter your name\")\n",
    "print(\"My name is : \",name)\n",
    "\n",
    "# Print the curent date and time \n",
    "from datetime import datetime\n",
    "now=datetime.now()\n",
    "now=now.strftime(\"%d/%m/%Y %H:%M:%S\")\n",
    "print(\"Current Date and time is : \",now)"
   ]
  },
  {
   "cell_type": "markdown",
   "metadata": {
    "id": "Ba4Z_iI4f0so"
   },
   "source": [
    "## Assignment 1: Introduction to Python"
   ]
  },
  {
   "cell_type": "markdown",
   "metadata": {
    "id": "uD-hB6jSgC2w"
   },
   "source": [
    "Excercise 1: Write a python program to input 5 subject marks and calculate total marks, percentages and grades based on the following criteria \n",
    "\n",
    "i)percentage less than 50 (Grade C) \n",
    "\n",
    "ii)percentage equal to 50 and less than 80 (Grade B) \n",
    "\n",
    "iii)percentage equal to 80 and more than 80 (Grade A)\n"
   ]
  },
  {
   "cell_type": "code",
   "execution_count": 11,
   "metadata": {
    "id": "zXeSiegFcB0F"
   },
   "outputs": [
    {
     "name": "stdout",
     "output_type": "stream",
     "text": [
      "Enter the marks of 1 subject 23\n",
      "Enter the marks of 2 subject 45\n",
      "Enter the marks of 3 subject 67\n",
      "Enter the marks of 4 subject 90\n",
      "Enter the marks of 5 subject 12\n",
      "[23, 45, 67, 90, 12]\n"
     ]
    }
   ],
   "source": [
    "#write your code here.\n",
    "marks=[]\n",
    "for i in range(5):\n",
    "    marks.append(int(input(\"Enter the marks of \"+str(i+1)+\" subject \")))\n",
    "print(marks)\n"
   ]
  },
  {
   "cell_type": "code",
   "execution_count": 59,
   "metadata": {},
   "outputs": [
    {
     "name": "stdout",
     "output_type": "stream",
     "text": [
      "Total marks  237\n",
      "Percentage : 47.4%\n",
      "Grade C\n"
     ]
    }
   ],
   "source": [
    "total_marks=sum(marks)\n",
    "print(\"Total marks \",total_marks)\n",
    "percent=(total_marks/(100*5))*100\n",
    "print(\"Percentage : \"+str(percent)+\"%\")\n",
    "if(percent<50):\n",
    "    print(\"Grade C\")\n",
    "elif(percent>=50 and percent<80):\n",
    "    print(\"Grade B\")\n",
    "else:\n",
    "    print(\"Grade A\")\n",
    "\n",
    "\n"
   ]
  },
  {
   "cell_type": "markdown",
   "metadata": {
    "id": "H2ivUh3Qnbfg"
   },
   "source": [
    "Excercise 2: List operations. Take ten numbers as input from the user and save into a list\n",
    "\n",
    "i) Write a python program to find the maximum and minimum number in a list of 10 elements and also find the index position of the following numbers.\n",
    "\n",
    "ii) Write a python program to sort array elements in ascending/descending order using your own defined function.\n"
   ]
  },
  {
   "cell_type": "code",
   "execution_count": 62,
   "metadata": {
    "id": "pcrjQyU7n6xn"
   },
   "outputs": [
    {
     "name": "stdout",
     "output_type": "stream",
     "text": [
      "Enter the 1 number 12\n",
      "Enter the 2 number 43\n",
      "Enter the 3 number 67\n",
      "Enter the 4 number 8\n",
      "Enter the 5 number 90\n",
      "Enter the 6 number 123\n",
      "Enter the 7 number 31\n",
      "Enter the 8 number 64\n",
      "Enter the 9 number 99\n",
      "Enter the 10 number 25\n",
      "[12, 43, 67, 8, 90, 123, 31, 64, 99, 25]\n"
     ]
    }
   ],
   "source": [
    "#write your code here.\n",
    "l1=[]\n",
    "for i in range(10):\n",
    "    l1.append(int(input(\"Enter the \"+str(i+1)+\" number \")))\n",
    "print(l1)"
   ]
  },
  {
   "cell_type": "code",
   "execution_count": 63,
   "metadata": {},
   "outputs": [],
   "source": [
    "def max_min(l1,i):\n",
    "    global max_ind\n",
    "    global min_ind\n",
    "    global max1\n",
    "    global min1\n",
    "    \n",
    "    \n",
    "    if(i==len(l1)):\n",
    "        return \n",
    "    \n",
    "    if(l1[i]>max1):\n",
    "        max1=l1[i]\n",
    "        max_ind=i\n",
    "        \n",
    "    if(l1[i]<min1):\n",
    "        min1=l1[i]\n",
    "        min_ind=i\n",
    "    \n",
    "    max_min(l1,i+1)\n",
    "    \n",
    "def sort(l1):\n",
    "    for i in range(len(l1)):\n",
    "        flag=0\n",
    "        for j in range(len(l1)-i-1):\n",
    "            if(l1[j]>l1[j+1]):\n",
    "                flag=1\n",
    "                temp=l1[j]\n",
    "                l1[j]=l1[j+1]\n",
    "                l1[j+1]=temp\n",
    "        if(flag==0):\n",
    "            return\n",
    "    \n",
    "    "
   ]
  },
  {
   "cell_type": "code",
   "execution_count": 64,
   "metadata": {},
   "outputs": [
    {
     "name": "stdout",
     "output_type": "stream",
     "text": [
      "Maximum_no: 123 and index: 5\n",
      "Minimum_no: 8 and index: 3\n",
      "[8, 12, 25, 31, 43, 64, 67, 90, 99, 123]\n"
     ]
    }
   ],
   "source": [
    "import math\n",
    "max1=-math.inf\n",
    "min1=math.inf\n",
    "i=0\n",
    "max_ind=i\n",
    "min_ind=i\n",
    "max_min(l1,i)\n",
    "print(\"Maximum_no: \"+str(max1)+\" and index: \"+str(max_ind))\n",
    "max_min(l1,i)\n",
    "print(\"Minimum_no: \"+str(min1)+\" and index: \"+str(min_ind))\n",
    "sort(l1)\n",
    "print(l1)\n"
   ]
  },
  {
   "cell_type": "markdown",
   "metadata": {
    "id": "maMgBolSn9ov"
   },
   "source": [
    "Excercise 3: Write a python program to find the factorial of a number"
   ]
  },
  {
   "cell_type": "code",
   "execution_count": 42,
   "metadata": {},
   "outputs": [],
   "source": [
    "def factorial(num,fact):\n",
    "    if(num==1):\n",
    "        fact=1\n",
    "        return fact\n",
    "    \n",
    "    fact=fact*num*factorial(num-1,fact)\n",
    "    return fact"
   ]
  },
  {
   "cell_type": "code",
   "execution_count": 47,
   "metadata": {
    "id": "IfQ5noePoHec"
   },
   "outputs": [
    {
     "name": "stdout",
     "output_type": "stream",
     "text": [
      "Enter a number 6\n",
      "Factorial of a number is  720\n"
     ]
    }
   ],
   "source": [
    "#write your code here.\n",
    "num=int(input(\"Enter a number \"))\n",
    "fact=1\n",
    "print(\"Factorial of a number is \",factorial(num,fact))"
   ]
  },
  {
   "cell_type": "markdown",
   "metadata": {
    "id": "iZqD9oFFlneM"
   },
   "source": [
    "Exercise 4: Create a python function that takes in a graph represented as an adjacency matrix and a starting vertex, and uses depth-first search (DFS) to print all the vertices in the graph in the order they were visited.\n",
    "\n",
    "Follow the following steps to solve the problem:\n",
    "\n",
    "Step 1: Understand the problem: Understand the problem statement, the input and output format, and the constraints of the problem.\n",
    "\n",
    "Step 2: Create the function: Create a python function called \"dfs_traversal\" that takes in two parameters: an adjacency matrix \"graph\" representing the graph and an integer \"start\" representing the starting vertex.\n",
    "\n",
    "Step 3: Initialize a stack: Initialize an empty stack and push the starting vertex onto the stack.\n",
    "\n",
    "Step 4: Create a visited list: Create an empty list called \"visited\" to keep track of the vertices that have been visited.\n",
    "\n",
    "Step 5: Traverse the graph: Use a while loop to traverse the graph. In each iteration, pop a vertex from the top of the stack, add it to the \"visited\" list, and push all its unvisited neighbours onto the stack. The neighbours of a vertex can be found by checking the corresponding row of the adjacency matrix.\n",
    "\n",
    "Step 6: Print the visited list: Print the \"visited\" list after the while loop has finished executing to show the order in which the vertices were visited.\n",
    "\n"
   ]
  },
  {
   "cell_type": "code",
   "execution_count": 48,
   "metadata": {},
   "outputs": [],
   "source": [
    "class Edge:\n",
    "    def __init__(self,src,dest,wt):\n",
    "        self.src=src\n",
    "        self.dest=dest\n",
    "        self.wt=wt"
   ]
  },
  {
   "cell_type": "code",
   "execution_count": 50,
   "metadata": {
    "id": "TunjE8DD-RtN"
   },
   "outputs": [
    {
     "name": "stdout",
     "output_type": "stream",
     "text": [
      "Enter the number of vertices 7\n",
      "Enter the number of edges 8\n",
      "Enter the src vertex, dest vertex, weight of the edge separated by space 0 1 10\n",
      "Enter the src vertex, dest vertex, weight of the edge separated by space 0 2 10\n",
      "Enter the src vertex, dest vertex, weight of the edge separated by space 1 3 10\n",
      "Enter the src vertex, dest vertex, weight of the edge separated by space 2 3 20\n",
      "Enter the src vertex, dest vertex, weight of the edge separated by space 2 4 10\n",
      "Enter the src vertex, dest vertex, weight of the edge separated by space 4 5 20\n",
      "Enter the src vertex, dest vertex, weight of the edge separated by space 5 6 10\n",
      "Enter the src vertex, dest vertex, weight of the edge separated by space 4 6 10\n",
      "----------------------------\n",
      "{0: [<__main__.Edge object at 0x000001740C675DF0>, <__main__.Edge object at 0x000001740C76C280>], 1: [<__main__.Edge object at 0x000001740C66C580>, <__main__.Edge object at 0x000001740C76C520>], 2: [<__main__.Edge object at 0x000001740C76C1C0>, <__main__.Edge object at 0x000001740C76C040>, <__main__.Edge object at 0x000001740C694EE0>], 3: [<__main__.Edge object at 0x000001740C76C4F0>, <__main__.Edge object at 0x000001740C76C3D0>], 4: [<__main__.Edge object at 0x000001740C694970>, <__main__.Edge object at 0x000001740C694760>, <__main__.Edge object at 0x000001740C694460>], 5: [<__main__.Edge object at 0x000001740C694FA0>, <__main__.Edge object at 0x000001740C694F40>], 6: [<__main__.Edge object at 0x000001740C6944F0>, <__main__.Edge object at 0x000001740C694580>]}\n"
     ]
    }
   ],
   "source": [
    "#write your code here.\n",
    "vertices=int(input(\"Enter the number of vertices \"))\n",
    "edges=int(input(\"Enter the number of edges \"))\n",
    "graph={}\n",
    "for i in range(vertices):\n",
    "    graph[i]=[]\n",
    "for i in range(edges):\n",
    "    values=list(map(int,input(\"Enter the src vertex, dest vertex, weight of the edge separated by space \").split(\" \")))\n",
    "    e1=Edge(values[0],values[1],values[2])\n",
    "    e2=Edge(values[1],values[0],values[2])\n",
    "    graph[e1.src].append(e1)\n",
    "    graph[e2.src].append(e2)\n",
    "    \n",
    "print(\"----------------------------\")\n",
    "print(graph)\n",
    "    "
   ]
  },
  {
   "cell_type": "code",
   "execution_count": 56,
   "metadata": {},
   "outputs": [],
   "source": [
    "def dfs_traversal(graph,i):\n",
    "    if(visited[i]==True):\n",
    "        return\n",
    "    visited[i]=True\n",
    "    print(visited)\n",
    "    for neighbors in graph[i]:\n",
    "        if(visited[neighbors.dest]==False):\n",
    "            dfs_traversal(graph,neighbors.dest)    \n",
    "    stack.append(i)"
   ]
  },
  {
   "cell_type": "code",
   "execution_count": 58,
   "metadata": {},
   "outputs": [
    {
     "name": "stdout",
     "output_type": "stream",
     "text": [
      "The visited array after each execution \n",
      "[False, False, False, False, False, False, False]\n",
      "[True, False, False, False, False, False, False]\n",
      "[True, True, False, False, False, False, False]\n",
      "[True, True, False, True, False, False, False]\n",
      "[True, True, True, True, False, False, False]\n",
      "[True, True, True, True, True, False, False]\n",
      "[True, True, True, True, True, True, False]\n",
      "[True, True, True, True, True, True, True]\n",
      "0\n",
      "1\n",
      "3\n",
      "2\n",
      "4\n",
      "5\n",
      "6\n"
     ]
    }
   ],
   "source": [
    "visited=[False]*vertices\n",
    "print(\"The visited array after each execution \")\n",
    "print(visited)\n",
    "stack=[]\n",
    "for i in range(vertices):\n",
    "    if(visited[i]==False):\n",
    "        dfs_traversal(graph,i)\n",
    "while(len(stack)!=0):\n",
    "    rem=stack.pop()\n",
    "    print(rem)"
   ]
  },
  {
   "cell_type": "markdown",
   "metadata": {
    "id": "myF0ObknqgTj"
   },
   "source": [
    "Exercise 5: A graph to be searched, starting at A and ending at G. The h values are the heuristic\n",
    "estimates, and the numbers on the edges are the actual costs. Assume that the children of a node are\n",
    "ordered in alphabetical order; also use the alphabetical order to break ties, if necessary.![1111.png](data:image/png;base64,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)\n",
    "\n",
    "A). Perform a depth-first search, without using any visited or expanded lists. Show the sequence of expanded\n",
    "nodes. Which path is returned?\n",
    "\n",
    "B).Of the search algorithms covered, which one requires the smallest number of expansions before\n",
    "returning a path? Which path is returned?\n",
    "\n",
    "C). Did A∗search with expanded list return the optimal path? Explain why in terms of the admissibility and/or\n",
    "consistency of the heuristics.\n"
   ]
  },
  {
   "cell_type": "markdown",
   "metadata": {},
   "source": [
    "## A). Perform a depth-first search, without using any visited or expanded lists. Show the sequence of expanded nodes. Which path is returned?"
   ]
  },
  {
   "cell_type": "code",
   "execution_count": 2,
   "metadata": {},
   "outputs": [
    {
     "name": "stdout",
     "output_type": "stream",
     "text": [
      "{'A': [], 'B': [], 'C': [], 'D': [], 'G': []}\n"
     ]
    }
   ],
   "source": [
    "graph={}\n",
    "for i in range(4):\n",
    "    graph[chr(ord('A')+i)]=[]\n",
    "graph['G']=[]\n",
    "print(graph)"
   ]
  },
  {
   "cell_type": "code",
   "execution_count": 3,
   "metadata": {},
   "outputs": [],
   "source": [
    "class Edge:\n",
    "    def __init__(self,src,dest,wt):\n",
    "        self.src=src\n",
    "        self.dest=dest\n",
    "        self.wt=wt"
   ]
  },
  {
   "cell_type": "code",
   "execution_count": 4,
   "metadata": {},
   "outputs": [
    {
     "name": "stdout",
     "output_type": "stream",
     "text": [
      "Enter the no. of edges 7\n",
      "Enter the src, dest and weight separated by space in alphabetical order A B 1\n",
      "Enter the src, dest and weight separated by space in alphabetical order A C 4\n",
      "Enter the src, dest and weight separated by space in alphabetical order B C 2\n",
      "Enter the src, dest and weight separated by space in alphabetical order B D 2\n",
      "Enter the src, dest and weight separated by space in alphabetical order C D 3\n",
      "Enter the src, dest and weight separated by space in alphabetical order C G 4\n",
      "Enter the src, dest and weight separated by space in alphabetical order D G 6\n",
      "{'A': [<__main__.Edge object at 0x000001F5DA40DCD0>, <__main__.Edge object at 0x000001F5DA40DBB0>], 'B': [<__main__.Edge object at 0x000001F5DA40DDF0>, <__main__.Edge object at 0x000001F5DA40DE20>], 'C': [<__main__.Edge object at 0x000001F5DA40DEE0>, <__main__.Edge object at 0x000001F5DA40DF40>], 'D': [<__main__.Edge object at 0x000001F5DA40DF70>], 'G': []}\n"
     ]
    }
   ],
   "source": [
    "e=int(input(\"Enter the no. of edges \"))\n",
    "for i in range(e):\n",
    "    values=input(\"Enter the src, dest and weight separated by space in alphabetical order \").split(\" \")\n",
    "    e1=Edge(values[0],values[1],values[2])\n",
    "    graph[e1.src].append(e1)\n",
    "print(graph)"
   ]
  },
  {
   "cell_type": "code",
   "execution_count": 17,
   "metadata": {},
   "outputs": [],
   "source": [
    "def DFS(graph,src,dest):\n",
    "    \n",
    "    if src in stack:\n",
    "        return\n",
    "    \n",
    "    if(src==dest):\n",
    "        stack.append(src)\n",
    "        return\n",
    "    \n",
    "    \n",
    "    for neighbors in graph[src]:\n",
    "        if(ord(neighbors.dest)>ord(src)):\n",
    "            DFS(graph,neighbors.dest,dest)\n",
    "    stack.append(src)"
   ]
  },
  {
   "cell_type": "code",
   "execution_count": 18,
   "metadata": {},
   "outputs": [
    {
     "name": "stdout",
     "output_type": "stream",
     "text": [
      "A\n",
      "B\n",
      "C\n",
      "D\n",
      "G\n"
     ]
    }
   ],
   "source": [
    "src='A'\n",
    "dest='G'\n",
    "stack=[]\n",
    "DFS(graph,src,dest)\n",
    "while(len(stack)!=0):\n",
    "    rem=stack.pop()\n",
    "    print(rem)"
   ]
  },
  {
   "cell_type": "markdown",
   "metadata": {},
   "source": [
    "### A* algorithm"
   ]
  },
  {
   "cell_type": "code",
   "execution_count": 38,
   "metadata": {},
   "outputs": [],
   "source": [
    "class Edge:\n",
    "    def __init__(self,src,dest,wt):\n",
    "        self.src=src\n",
    "        self.dest=dest\n",
    "        self.wt=wt        "
   ]
  },
  {
   "cell_type": "code",
   "execution_count": 39,
   "metadata": {},
   "outputs": [
    {
     "name": "stdout",
     "output_type": "stream",
     "text": [
      "Enter the no. of vertices : 5\n",
      "{'A': [], 'B': [], 'C': [], 'D': [], 'G': []}\n"
     ]
    }
   ],
   "source": [
    "graph={}\n",
    "v=int(input(\"Enter the no. of vertices : \"))\n",
    "for i in range(v-1):\n",
    "    graph[chr(ord('A')+i)]=[]\n",
    "graph['G']=[]\n",
    "print(graph)"
   ]
  },
  {
   "cell_type": "code",
   "execution_count": 40,
   "metadata": {},
   "outputs": [
    {
     "name": "stdout",
     "output_type": "stream",
     "text": [
      "Enter the heuristic value for A: 7\n",
      "Enter the heuristic value for B: 6\n",
      "Enter the heuristic value for C: 2\n",
      "Enter the heuristic value for D: 2\n",
      "Enter the heuristic value for G: 0\n",
      "{'A': 7, 'B': 6, 'C': 2, 'D': 2, 'G': 0}\n",
      "Enter the no. of edges 7\n",
      "A B 1\n",
      "A C 4\n",
      "B C 2\n",
      "B D 2\n",
      "C D 3\n",
      "C G 4\n",
      "D G 6\n",
      "{'A': [<__main__.Edge object at 0x000001DBE7CD9940>, <__main__.Edge object at 0x000001DBE88C61F0>], 'B': [<__main__.Edge object at 0x000001DBE7E88850>, <__main__.Edge object at 0x000001DBE88C62E0>, <__main__.Edge object at 0x000001DBE88C62B0>], 'C': [<__main__.Edge object at 0x000001DBE88C6250>, <__main__.Edge object at 0x000001DBE88C6310>, <__main__.Edge object at 0x000001DBE878DB20>, <__main__.Edge object at 0x000001DBE878DD30>], 'D': [<__main__.Edge object at 0x000001DBE88C6370>, <__main__.Edge object at 0x000001DBE878DAF0>, <__main__.Edge object at 0x000001DBE878DC10>], 'G': [<__main__.Edge object at 0x000001DBE878D0D0>, <__main__.Edge object at 0x000001DBE878DC40>]}\n"
     ]
    }
   ],
   "source": [
    "heu={}\n",
    "for elem in graph:\n",
    "    heu[elem]=int(input(\"Enter the heuristic value for \"+elem+\": \"))\n",
    "print(heu)\n",
    "e=int(input(\"Enter the no. of edges \"))\n",
    "for i in range(e):\n",
    "    values=input().split(\" \")\n",
    "    e1=Edge(values[0],values[1],values[2])\n",
    "    e2=Edge(values[1],values[0],values[2])\n",
    "    graph[e1.src].append(e1)\n",
    "    graph[e2.src].append(e2)\n",
    "print(graph)    "
   ]
  },
  {
   "cell_type": "code",
   "execution_count": 41,
   "metadata": {},
   "outputs": [],
   "source": [
    "class Pair:\n",
    "    def __init__(self,vertex,path,cost):\n",
    "        self.vertex=vertex\n",
    "        self.path=path\n",
    "        self.cost=cost\n",
    "        \n",
    "    def __lt__(self,other):\n",
    "        return self.path < other.path"
   ]
  },
  {
   "cell_type": "code",
   "execution_count": 42,
   "metadata": {},
   "outputs": [],
   "source": [
    "def A_star_algo(graph,src,path,pq,visited,cost,dest):\n",
    "    pq.put((heu[src],Pair(src,path+src,cost)))\n",
    "    \n",
    "    while(not pq.empty()):\n",
    "        rem=pq.get()\n",
    "        if(rem[1].vertex==dest):\n",
    "            visited[rem[1].vertex]=True\n",
    "            print(rem[1].path)\n",
    "            return\n",
    "        \n",
    "        if(visited[rem[1].vertex]==False):\n",
    "            visited[rem[1].vertex]=True\n",
    "            for neighbors in graph[rem[1].vertex]:\n",
    "                if(visited[neighbors.dest]==False):\n",
    "                    pq.put((rem[1].cost+int(neighbors.wt)+heu[neighbors.dest],\n",
    "                            Pair(neighbors.dest,rem[1].path+neighbors.dest,rem[1].cost+int(neighbors.wt))))\n",
    "    \n",
    "    "
   ]
  },
  {
   "cell_type": "code",
   "execution_count": 43,
   "metadata": {},
   "outputs": [
    {
     "name": "stdout",
     "output_type": "stream",
     "text": [
      "{'A': False, 'B': False, 'C': False, 'D': False, 'G': False}\n",
      "<queue.PriorityQueue object at 0x000001DBE879C0A0>\n",
      "Enter the destination : G\n",
      "ACG\n"
     ]
    }
   ],
   "source": [
    "visited={}\n",
    "for elem in graph:\n",
    "    visited[elem]=False\n",
    "print(visited)\n",
    "from queue import PriorityQueue\n",
    "pq=PriorityQueue()\n",
    "print(pq)\n",
    "\n",
    "dest=input(\"Enter the destination : \")\n",
    "\n",
    "for elem in graph:\n",
    "    if(visited[elem]==False):\n",
    "        path=\"\"\n",
    "        cost=0\n",
    "        A_star_algo(graph,elem,path,pq,visited,cost,dest)\n",
    "\n",
    "\n",
    "\n"
   ]
  },
  {
   "cell_type": "markdown",
   "metadata": {},
   "source": [
    "## BFS"
   ]
  },
  {
   "cell_type": "code",
   "execution_count": 47,
   "metadata": {},
   "outputs": [],
   "source": [
    "class Pair:\n",
    "    def __init__(self,vertex,path):\n",
    "        self.vertex=vertex\n",
    "        self.path=path"
   ]
  },
  {
   "cell_type": "code",
   "execution_count": 48,
   "metadata": {},
   "outputs": [],
   "source": [
    "def BFS(graph,visited,src,dest):\n",
    "    queue.append(Pair(src,\"\"+src))\n",
    "    while(len(queue)!=0):\n",
    "        rem=queue.pop(0)\n",
    "        if(rem.vertex==dest):\n",
    "            visited[rem.vertex]=True\n",
    "            print(rem.path)\n",
    "            return\n",
    "        \n",
    "        if(visited[rem.vertex]==False):\n",
    "            visited[rem.vertex]=True\n",
    "            for neighbors in graph[rem.vertex]:\n",
    "                if(visited[neighbors.dest]==False):\n",
    "                    queue.append(Pair(neighbors.dest,rem.path+neighbors.dest))\n",
    "                    \n",
    "            \n",
    "    "
   ]
  },
  {
   "cell_type": "code",
   "execution_count": 49,
   "metadata": {},
   "outputs": [
    {
     "name": "stdout",
     "output_type": "stream",
     "text": [
      "Enter the destination : G\n",
      "ACG\n"
     ]
    }
   ],
   "source": [
    "queue=[]\n",
    "for elem in graph:\n",
    "    visited[elem]=False\n",
    "dest=input(\"Enter the destination : \")\n",
    "for elem in graph:\n",
    "    if(visited[elem]==False):\n",
    "        BFS(graph,visited,elem,dest)\n",
    "        "
   ]
  },
  {
   "cell_type": "markdown",
   "metadata": {},
   "source": [
    "##  Uniform cost search"
   ]
  },
  {
   "cell_type": "code",
   "execution_count": 56,
   "metadata": {},
   "outputs": [],
   "source": [
    "class Pair:\n",
    "    def __init__(self,vertex,path):\n",
    "        self.vertex=vertex\n",
    "        self.path=path\n",
    "        \n",
    "    def __lt__(self,other):\n",
    "        return self.path < other.path"
   ]
  },
  {
   "cell_type": "code",
   "execution_count": 57,
   "metadata": {},
   "outputs": [],
   "source": [
    "def UCS(graph,visited,src,dest,pq):\n",
    "    pq.put((0,Pair(src,\"\"+src)))\n",
    "    while(not pq.empty()):\n",
    "        rem=pq.get()\n",
    "        if(rem[1].vertex==dest):\n",
    "            visited[rem[1].vertex]=True\n",
    "            print(rem[1].path)\n",
    "            return\n",
    "        \n",
    "        if(visited[rem[1].vertex]==False):\n",
    "            visited[rem[1].vertex]=True\n",
    "            for neighbors in graph[rem[1].vertex]:\n",
    "                if(visited[neighbors.dest]==False):\n",
    "                    pq.put((rem[0]+int(neighbors.wt),Pair(neighbors.dest,rem[1].path+neighbors.dest)))\n",
    "    "
   ]
  },
  {
   "cell_type": "code",
   "execution_count": 58,
   "metadata": {},
   "outputs": [
    {
     "name": "stdout",
     "output_type": "stream",
     "text": [
      "Enter the destination : G\n",
      "ABCG\n"
     ]
    }
   ],
   "source": [
    "from queue import PriorityQueue\n",
    "pq=PriorityQueue()\n",
    "for elem in graph:\n",
    "    visited[elem]=False\n",
    "dest=input(\"Enter the destination : \")\n",
    "for elem in graph:\n",
    "    if(visited[elem]==False):\n",
    "        UCS(graph,visited,elem,dest,pq)\n",
    "        "
   ]
  },
  {
   "cell_type": "markdown",
   "metadata": {},
   "source": [
    "## Best First Search algo"
   ]
  },
  {
   "cell_type": "code",
   "execution_count": 63,
   "metadata": {},
   "outputs": [],
   "source": [
    "class Pair:\n",
    "    def __init__(self,vertex,path):\n",
    "        self.vertex=vertex\n",
    "        self.path=path\n",
    "        \n",
    "    def __lt__(self,other):\n",
    "        return self.path < other.path"
   ]
  },
  {
   "cell_type": "code",
   "execution_count": 64,
   "metadata": {},
   "outputs": [],
   "source": [
    "def Best_first_Search(graph,visited,src,dest,pq):\n",
    "    pq.put((heu[src],Pair(src,\"\"+src)))\n",
    "    while(not pq.empty()):\n",
    "        rem=pq.get()\n",
    "        if(rem[1].vertex==dest):\n",
    "            visited[rem[1].vertex]=True\n",
    "            print(rem[1].path)\n",
    "            return\n",
    "        \n",
    "        if(visited[rem[1].vertex]==False):\n",
    "            visited[rem[1].vertex]=True\n",
    "            for neighbors in graph[rem[1].vertex]:\n",
    "                if(visited[neighbors.dest]==False):\n",
    "                    pq.put((heu[neighbors.dest],Pair(neighbors.dest,rem[1].path+neighbors.dest)))"
   ]
  },
  {
   "cell_type": "code",
   "execution_count": 65,
   "metadata": {},
   "outputs": [
    {
     "name": "stdout",
     "output_type": "stream",
     "text": [
      "Heuristic values are :  {'A': 7, 'B': 6, 'C': 2, 'D': 2, 'G': 0}\n",
      "Enter the destination : G\n",
      "ACG\n"
     ]
    }
   ],
   "source": [
    "from queue import PriorityQueue\n",
    "pq=PriorityQueue()\n",
    "for elem in graph:\n",
    "    visited[elem]=False\n",
    "print(\"Heuristic values are : \",heu)\n",
    "dest=input(\"Enter the destination : \")\n",
    "for elem in graph:\n",
    "    if(visited[elem]==False):\n",
    "        Best_first_Search(graph,visited,elem,dest,pq)        "
   ]
  },
  {
   "cell_type": "markdown",
   "metadata": {},
   "source": [
    "## B).Of the search algorithms covered, which one requires the smallest number of expansions before returning a path? Which path is returned?"
   ]
  },
  {
   "cell_type": "markdown",
   "metadata": {},
   "source": [
    "A* algorithm, BFS Algo and Best First Search Algo required the smallest number of expansions before returning a path.\n",
    "The path returned was \"ACG\""
   ]
  },
  {
   "cell_type": "markdown",
   "metadata": {},
   "source": [
    "## C). Did A∗search with expanded list return the optimal path? Explain why in terms of the admissibility and/or consistency of the heuristics."
   ]
  },
  {
   "cell_type": "markdown",
   "metadata": {},
   "source": [
    "No, A* algorithm did not returned the optimal path because the total cost to reach the goal with this path is 8\n",
    "which is more than the optimal path cost to reach the goal . It is not optimal because it is not consistent . \n",
    "It is only admissible. It is not consistent because it does not satisfy the property that for every node n, \n",
    "every successor n' of n generated by any action a, h(n) ≤ c(n,a,n') + h(n')"
   ]
  }
 ],
 "metadata": {
  "colab": {
   "provenance": []
  },
  "kernelspec": {
   "display_name": "Python 3 (ipykernel)",
   "language": "python",
   "name": "python3"
  },
  "language_info": {
   "codemirror_mode": {
    "name": "ipython",
    "version": 3
   },
   "file_extension": ".py",
   "mimetype": "text/x-python",
   "name": "python",
   "nbconvert_exporter": "python",
   "pygments_lexer": "ipython3",
   "version": "3.11.5"
  }
 },
 "nbformat": 4,
 "nbformat_minor": 1
}
