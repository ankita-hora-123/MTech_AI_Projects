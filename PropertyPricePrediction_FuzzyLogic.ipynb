{
 "cells": [
  {
   "cell_type": "code",
   "execution_count": 26,
   "metadata": {
    "colab": {
     "base_uri": "https://localhost:8080/"
    },
    "id": "sP4eSOSOzJ8h",
    "outputId": "38699b71-0ff6-411b-f522-cd7634430522"
   },
   "outputs": [
    {
     "name": "stdout",
     "output_type": "stream",
     "text": [
      "The area input is  100\n",
      "The age input is  14\n",
      "The location input is  3\n"
     ]
    }
   ],
   "source": [
    "import numpy as np\n",
    "area=100\n",
    "age=14\n",
    "location=3\n",
    "print(\"The area input is \", area)\n",
    "print(\"The age input is \",age)\n",
    "print(\"The location input is \",location)"
   ]
  },
  {
   "cell_type": "code",
   "execution_count": 27,
   "metadata": {
    "id": "QsNCW-U9zsAS"
   },
   "outputs": [],
   "source": [
    "def openLeft(x,alpha,beta):\n",
    "    if x<alpha:\n",
    "        return 1\n",
    "    if alpha<x and x<=beta:\n",
    "        return (beta-x)/(beta-alpha)\n",
    "    else:\n",
    "        return 0\n",
    "def openRight(x,alpha,beta):\n",
    "    if x<alpha:\n",
    "        return 0\n",
    "    if alpha<x and x<=beta:\n",
    "        return (x-alpha)/(beta-alpha)\n",
    "    else:\n",
    "        return 1\n",
    "def triangular(x,a,b,c):\n",
    "    return max(min((x-a)/(b-a),(c-x)/(c-b)),0)"
   ]
  },
  {
   "cell_type": "code",
   "execution_count": 28,
   "metadata": {
    "id": "D6Zrcx-X1LWd"
   },
   "outputs": [],
   "source": [
    "def partition_area(x):\n",
    "    LA=0;MA=0;HA=0;\n",
    "    if x>0 and x<200:\n",
    "        LA=openLeft(x,0,200)\n",
    "    if x>170 and x<700:\n",
    "        MA=triangular(x,170,500,700)\n",
    "    if x>600 and x<1000:\n",
    "        HA=openRight(x,600,1000)\n",
    "    return LA,MA,HA;\n",
    "\n",
    "def partition_age(x):\n",
    "    LAG=0;MAG=0;HAG=0;\n",
    "    if x>0 and x<30:\n",
    "        LAG=openLeft(x,0,30)\n",
    "    if x>25 and x<70:\n",
    "        MAG=triangular(x,25,40,70)\n",
    "    if x>60 and x<100:\n",
    "        HAG=openRight(x,60,100)\n",
    "    return LAG,MAG,HAG;"
   ]
  },
  {
   "cell_type": "code",
   "execution_count": 29,
   "metadata": {
    "id": "p4rf-gnu3sdA"
   },
   "outputs": [],
   "source": [
    "def partition_location(x):\n",
    "    LL=0;ML=0;HL=0;\n",
    "    if x>0 and x<4:\n",
    "        LL=openLeft(x,0,4)\n",
    "    if x>3 and x<7:\n",
    "        ML=triangular(x,3,5,7)\n",
    "    if x>6 and x<10:\n",
    "        HL=openRight(x,6,10)\n",
    "    return LL,ML,HL;"
   ]
  },
  {
   "cell_type": "code",
   "execution_count": 30,
   "metadata": {
    "id": "A_tlILRs6Gf7"
   },
   "outputs": [],
   "source": [
    "def partition_price(x):\n",
    "    LP=0;MP=0;HP=0;\n",
    "    if x>0 and x<3000000:\n",
    "        LP=openLeft(x,0,3000000)\n",
    "    if x>2500000 and x<6500000:\n",
    "        MP=triangular(x,25000000,4000000,65000000)\n",
    "    if x>5500000 and x<10000000:\n",
    "        HP=openRight(x,5500000,10000000)\n",
    "    return LP,MP,HP;"
   ]
  },
  {
   "cell_type": "code",
   "execution_count": 31,
   "metadata": {
    "id": "egC_lgoN7T7f"
   },
   "outputs": [],
   "source": [
    "muLA,muMA,muHA=partition_area(area)\n",
    "muLAG,muMAG,muHAG=partition_age(age)\n",
    "muLL,muML,muHL=partition_location(location)"
   ]
  },
  {
   "cell_type": "code",
   "execution_count": 32,
   "metadata": {
    "id": "TcR-lDQC76qm"
   },
   "outputs": [],
   "source": [
    "def rule(muLA,muMA,muHA,muLAG,muMAG,muHAG,muLL,muML,muHL):\n",
    "    r1=min(muLA,muLAG,muLL)\n",
    "    r2=min(muLA,muMAG,muLL)\n",
    "    r3=min(muMA,muMAG,muML)\n",
    "    r4=min(muHA,muHAG,muHL)\n",
    "    r5=min(muMA,muHAG,muML)\n",
    "    return r1,r2,r3,r4,r5\n",
    "rr1,rr2,rr3,rr4,rr5=rule(muLA,muMA,muHA,muLAG,muMAG,muHAG,muLL,muML,muHL)"
   ]
  },
  {
   "cell_type": "code",
   "execution_count": 33,
   "metadata": {
    "colab": {
     "base_uri": "https://localhost:8080/"
    },
    "id": "abxbJWPJQ8Lr",
    "outputId": "a4c1b376-0b04-4566-fbe9-2b195dfc753c"
   },
   "outputs": [
    {
     "name": "stdout",
     "output_type": "stream",
     "text": [
      "The fuzzy output: \n",
      "['Rule 1', 'Rule 2', 'Rule 3', 'Rule 4', 'Rule 5']\n",
      "[[0.25 0.   0.   0.   0.  ]]\n",
      "The crisp value is  2250000.0\n"
     ]
    }
   ],
   "source": [
    "outputrules=[[rr1,rr2,rr3,rr4,rr5]]\n",
    "print('The fuzzy output: ')\n",
    "print(['Rule 1','Rule 2','Rule 3','Rule 4','Rule 5'])\n",
    "print(np.round(outputrules,2))\n",
    "def defuzzification(rr1,rr2,rr3,rr4,rr5):\n",
    "    if rr1>max(rr2,rr3,rr4,rr5):\n",
    "        crispvalue=3000000-rr1*3000000\n",
    "        return crispvalue\n",
    "    if rr2>max(rr1,rr3,rr4,rr5):\n",
    "        crispvalue=3000000-rr2*3000000\n",
    "        return crispvalue\n",
    "    if rr3>max(rr1,rr2,rr4,rr5):\n",
    "        crispvalue1=rr3*1500000+2500000\n",
    "        crispvalue2=6500000-rr3*1500000\n",
    "        return (crispvalue1+crispvalue2)/2\n",
    "    if rr4>max(rr1,rr2,rr3,rr5):\n",
    "        crispvalue1=rr4*1500000+2500000\n",
    "        crispvalue2=6500000-rr4*1500000\n",
    "        return (crispvalue1+crispvalue2)/2\n",
    "    if rr5>max(rr2,rr3,rr4,rr1):\n",
    "        crispvalue=rr5*4500000+5500000\n",
    "        return crispvalue\n",
    "    \n",
    "crispoutputfinal=defuzzification(rr1,rr2,rr3,rr4,rr5)\n",
    "if crispoutputfinal!=0:\n",
    "    print('The crisp value is ',crispoutputfinal)\n",
    "else:\n",
    "    print('No rule present')\n"
   ]
  },
  {
   "cell_type": "code",
   "execution_count": null,
   "metadata": {},
   "outputs": [],
   "source": []
  }
 ],
 "metadata": {
  "colab": {
   "provenance": []
  },
  "kernelspec": {
   "display_name": "Python 3 (ipykernel)",
   "language": "python",
   "name": "python3"
  },
  "language_info": {
   "codemirror_mode": {
    "name": "ipython",
    "version": 3
   },
   "file_extension": ".py",
   "mimetype": "text/x-python",
   "name": "python",
   "nbconvert_exporter": "python",
   "pygments_lexer": "ipython3",
   "version": "3.11.5"
  }
 },
 "nbformat": 4,
 "nbformat_minor": 1
}
