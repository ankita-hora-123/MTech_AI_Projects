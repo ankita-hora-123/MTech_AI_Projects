{
 "cells": [
  {
   "cell_type": "markdown",
   "id": "75e2871a",
   "metadata": {},
   "source": [
    "### K Means Clustering"
   ]
  },
  {
   "cell_type": "code",
   "execution_count": 92,
   "id": "a6af65a0",
   "metadata": {},
   "outputs": [
    {
     "name": "stdout",
     "output_type": "stream",
     "text": [
      "[105, 114, 120, 105, 104, 111, 111, 108, 113, 119, 118, 108]\n",
      "[55, 87, 50, 67, 68, 71, 90, 67, 59, 72, 55, 62]\n"
     ]
    }
   ],
   "source": [
    "import random\n",
    "height=[]\n",
    "weight=[]\n",
    "for i in range(12):\n",
    "    height.append(random.randint(100,120))\n",
    "    weight.append(random.randint(50,98))\n",
    "print(height)\n",
    "print(weight)\n"
   ]
  },
  {
   "cell_type": "code",
   "execution_count": 93,
   "id": "597e7df0",
   "metadata": {},
   "outputs": [],
   "source": [
    "import numpy as np\n",
    "\n",
    "def find_distance(cur_h,cur_w,center):\n",
    "    k1_h=(cur_h-center[0])\n",
    "    k1_w=(cur_w-center[1])\n",
    "    if(k1_h<0):\n",
    "        k1_h=(k1_h*-1)\n",
    "    k1_h=k1_h*k1_h\n",
    "\n",
    "    if(k1_w<0):\n",
    "        k1_w=(k1_w*-1)\n",
    "    k1_w=k1_w*k1_w\n",
    "\n",
    "    k1_sum=k1_h+k1_w\n",
    "    k1_dist=np.sqrt(k1_sum)\n",
    "    return k1_dist"
   ]
  },
  {
   "cell_type": "code",
   "execution_count": 94,
   "id": "91012e56",
   "metadata": {},
   "outputs": [],
   "source": [
    "def find_centroid(set1):\n",
    "    sum1=0\n",
    "    sum2=0\n",
    "    for elem in set1:\n",
    "        sum1=sum1+elem[0]\n",
    "        sum2=sum2+elem[1]\n",
    "    kc1=sum1/len(set1)\n",
    "    kc2=sum2/len(set1)\n",
    "    return (kc1,kc2)\n",
    "        "
   ]
  },
  {
   "cell_type": "code",
   "execution_count": 95,
   "id": "90e33202",
   "metadata": {},
   "outputs": [],
   "source": [
    "def Kmeans_cluster(height,weight,k1_c,k2_c,k1_set,k2_set):\n",
    "    for i in range(2,len(height)):\n",
    "        min1=0\n",
    "        k1_dist=find_distance(height[i],weight[i],k1_c)\n",
    "        k2_dist=find_distance(height[i],weight[i],k2_c)\n",
    "        if(k1_dist<k2_dist):\n",
    "            min1=k1_dist            \n",
    "        else:\n",
    "            min1=k2_dist\n",
    "        if(min1==k1_dist):\n",
    "            k1_set.append((height[i],weight[i]))\n",
    "            k1_c=find_centroid(k1_set)\n",
    "        else:\n",
    "            k2_set.append((height[i],weight[i]))\n",
    "            k2_c=find_centroid(k2_set)\n",
    "    print(\"The first cluster set contains\",k1_set)\n",
    "    print(\"The second cluster set contains\",k2_set)\n",
    "    return (k1_c,k2_c)\n",
    "        \n",
    "        \n",
    "        \n",
    "    "
   ]
  },
  {
   "cell_type": "code",
   "execution_count": 96,
   "id": "4879fb19",
   "metadata": {},
   "outputs": [
    {
     "name": "stdout",
     "output_type": "stream",
     "text": [
      "The first cluster set contains [(105, 55), (120, 50), (105, 67), (104, 68), (111, 71), (108, 67), (113, 59), (119, 72), (118, 55), (108, 62)]\n",
      "The second cluster set contains [(114, 87), (111, 90)]\n",
      "Centroid of First set (111.1, 62.6)\n",
      "Centroid of Second set (112.5, 88.5)\n"
     ]
    }
   ],
   "source": [
    "k1_c=(height[0],weight[0])\n",
    "k2_c=(height[1],weight[1])\n",
    "k1_set=[k1_c]\n",
    "k2_set=[k2_c]\n",
    "k1_c,k2_c=Kmeans_cluster(height,weight,k1_c,k2_c,k1_set,k2_set)\n",
    "print(\"Centroid of First set\",k1_c)\n",
    "print(\"Centroid of Second set\",k2_c)"
   ]
  },
  {
   "cell_type": "code",
   "execution_count": 97,
   "id": "cd2e5673",
   "metadata": {},
   "outputs": [
    {
     "data": {
      "text/plain": [
       "[]"
      ]
     },
     "execution_count": 97,
     "metadata": {},
     "output_type": "execute_result"
    },
    {
     "data": {
      "image/png": "[encoded data removed]",
      "text/plain": [
       "<Figure size 432x288 with 1 Axes>"
      ]
     },
     "metadata": {
      "needs_background": "light"
     },
     "output_type": "display_data"
    }
   ],
   "source": [
    "import pandas as pd\n",
    "df1=pd.DataFrame(k1_set,columns=['height','weight'])\n",
    "df2=pd.DataFrame(k2_set,columns=['height','weight'])\n",
    "plt.scatter(df1['height'],df1['weight'],color='red')\n",
    "plt.scatter(df2['height'],df2['weight'],color='green')\n",
    "plt.plot()"
   ]
  },
  {
   "cell_type": "markdown",
   "id": "b999d822",
   "metadata": {},
   "source": [
    "## Second Example by taking constant values"
   ]
  },
  {
   "cell_type": "code",
   "execution_count": 74,
   "id": "0eb3091f",
   "metadata": {},
   "outputs": [
    {
     "name": "stdout",
     "output_type": "stream",
     "text": [
      "The first cluster set contains [(185, 72), (179, 68), (182, 72), (188, 77), (180, 71), (180, 70), (183, 84), (180, 88), (180, 67), (177, 76)]\n",
      "The second cluster set contains [(170, 56), (168, 60)]\n",
      "Centroid of First set (181.4, 74.5)\n",
      "Centroid of Second set (169.0, 58.0)\n"
     ]
    }
   ],
   "source": [
    "height=[185,170,168,179,182,188,180,180,183,180,180,177]\n",
    "weight=[72,56,60,68,72,77,71,70,84,88,67,76]\n",
    "k1_c=(height[0],weight[0])\n",
    "k2_c=(height[1],weight[1])\n",
    "k1_set=[k1_c]\n",
    "k2_set=[k2_c]\n",
    "k1_c,k2_c=Kmeans_cluster(height,weight,k1_c,k2_c,k1_set,k2_set)\n",
    "print(\"Centroid of First set\",k1_c)\n",
    "print(\"Centroid of Second set\",k2_c)"
   ]
  },
  {
   "cell_type": "code",
   "execution_count": 75,
   "id": "0fe15afb",
   "metadata": {},
   "outputs": [
    {
     "data": {
      "text/plain": [
       "<matplotlib.collections.PathCollection at 0x15f66d714f0>"
      ]
     },
     "execution_count": 75,
     "metadata": {},
     "output_type": "execute_result"
    },
    {
     "data": {
      "image/png": "[encoded data removed]",
      "text/plain": [
       "<Figure size 432x288 with 1 Axes>"
      ]
     },
     "metadata": {
      "needs_background": "light"
     },
     "output_type": "display_data"
    }
   ],
   "source": [
    "import matplotlib.pyplot as plt\n",
    "import pandas as pd\n",
    "df_ht=pd.Series(height)\n",
    "df_wt=pd.Series(weight)\n",
    "plt.scatter(df_ht,df_wt)"
   ]
  },
  {
   "cell_type": "code",
   "execution_count": 76,
   "id": "0f5de5b8",
   "metadata": {},
   "outputs": [
    {
     "data": {
      "text/plain": [
       "[]"
      ]
     },
     "execution_count": 76,
     "metadata": {},
     "output_type": "execute_result"
    },
    {
     "data": {
      "image/png": "[encoded data removed]",
      "text/plain": [
       "<Figure size 432x288 with 1 Axes>"
      ]
     },
     "metadata": {
      "needs_background": "light"
     },
     "output_type": "display_data"
    }
   ],
   "source": [
    "import pandas as pd\n",
    "df1=pd.DataFrame(k1_set,columns=['height','weight'])\n",
    "df2=pd.DataFrame(k2_set,columns=['height','weight'])\n",
    "plt.scatter(df1['height'],df1['weight'],color='red')\n",
    "plt.scatter(df2['height'],df2['weight'],color='green')\n",
    "plt.plot()"
   ]
  },
  {
   "cell_type": "code",
   "execution_count": 77,
   "id": "9b84a37c",
   "metadata": {},
   "outputs": [],
   "source": [
    "def predict(predict_point,k1_c,k2_c,k1_set,k2_set):\n",
    "    k1_dist=find_distance(predict_point[0],predict_point[1],k1_c)\n",
    "    k2_dist=find_distance(predict_point[0],predict_point[1],k2_c)\n",
    "    if(k1_dist<k2_dist):\n",
    "        min1=k1_dist            \n",
    "    else:\n",
    "        min1=k2_dist\n",
    "    if(min1==k1_dist):\n",
    "        k1_set.append(predict_point)\n",
    "        k1_c=find_centroid(k1_set)\n",
    "    else:\n",
    "        k2_set.append(predict_point)\n",
    "        k2_c=find_centroid(k2_set)\n",
    "    print(k1_set)\n",
    "    print(k2_set)\n",
    "    return (k1_c,k2_c)"
   ]
  },
  {
   "cell_type": "code",
   "execution_count": 78,
   "id": "4e10bba6",
   "metadata": {},
   "outputs": [
    {
     "name": "stdout",
     "output_type": "stream",
     "text": [
      "[(185, 72), (179, 68), (182, 72), (188, 77), (180, 71), (180, 70), (183, 84), (180, 88), (180, 67), (177, 76)]\n",
      "[(170, 56), (168, 60), (172, 58)]\n",
      "Centroid of First set (181.4, 74.5)\n",
      "Centroid of Second set (170.0, 58.0)\n"
     ]
    }
   ],
   "source": [
    "predict_point=(172,58)\n",
    "k1_c,k2_c=predict(predict_point,k1_c,k2_c,k1_set,k2_set)\n",
    "print(\"Centroid of First set\",k1_c)\n",
    "print(\"Centroid of Second set\",k2_c)"
   ]
  },
  {
   "cell_type": "code",
   "execution_count": 79,
   "id": "30756c56",
   "metadata": {},
   "outputs": [
    {
     "name": "stdout",
     "output_type": "stream",
     "text": [
      "After prediction of new point\n"
     ]
    },
    {
     "data": {
      "text/plain": [
       "[]"
      ]
     },
     "execution_count": 79,
     "metadata": {},
     "output_type": "execute_result"
    },
    {
     "data": {
      "image/png": "[encoded data removed]",
      "text/plain": [
       "<Figure size 432x288 with 1 Axes>"
      ]
     },
     "metadata": {
      "needs_background": "light"
     },
     "output_type": "display_data"
    }
   ],
   "source": [
    "print(\"After prediction of new point\")\n",
    "df1=pd.DataFrame(k1_set,columns=['height','weight'])\n",
    "df2=pd.DataFrame(k2_set,columns=['height','weight'])\n",
    "plt.scatter(df1['height'],df1['weight'],color='purple')\n",
    "plt.scatter(df2['height'],df2['weight'],color='orange')\n",
    "plt.plot()"
   ]
  }
 ],
 "metadata": {
  "kernelspec": {
   "display_name": "Python 3 (ipykernel)",
   "language": "python",
   "name": "python3"
  },
  "language_info": {
   "codemirror_mode": {
    "name": "ipython",
    "version": 3
   },
   "file_extension": ".py",
   "mimetype": "text/x-python",
   "name": "python",
   "nbconvert_exporter": "python",
   "pygments_lexer": "ipython3",
   "version": "3.11.5"
  }
 },
 "nbformat": 4,
 "nbformat_minor": 5
}
